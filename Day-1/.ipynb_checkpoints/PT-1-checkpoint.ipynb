{
 "cells": [
  {
   "cell_type": "markdown",
   "id": "bae836de-eaec-4547-a92b-81143cb47396",
   "metadata": {},
   "source": [
    "# Task 1: Sum, Average, Max, Min\n",
    "# Write a Python script that:\n",
    "# Takes a list of numbers.\n",
    "# Prints their sum, average, maximum, and minimum."
   ]
  },
  {
   "cell_type": "code",
   "execution_count": 2,
   "id": "40a92f6f-4b20-489b-8182-caa02efa6aed",
   "metadata": {},
   "outputs": [
    {
     "name": "stdout",
     "output_type": "stream",
     "text": [
      "(60, 20.0, 30, 10)\n"
     ]
    }
   ],
   "source": [
    "def analyze_numbers(numbers):\n",
    "    total = sum(numbers)\n",
    "    average = total / len(numbers)\n",
    "    maxNum = max(numbers)\n",
    "    minNum = min(numbers)\n",
    "    return total, average, maxNum, minNum\n",
    "\n",
    "print(analyze_numbers([ 10, 20, 30 ]))"
   ]
  },
  {
   "cell_type": "markdown",
   "id": "b5a60c5f-d351-43fe-bc3f-28f8a76e86bd",
   "metadata": {},
   "source": [
    "# Task 2: Word Counter\n",
    "# Write a script that:\n",
    "# Reads a text file.\n",
    "# Counts the number of words.\n",
    "# Writes the word count to a new file."
   ]
  },
  {
   "cell_type": "code",
   "execution_count": 3,
   "id": "fbc6b960-30b6-49c3-9987-33dcd4c78d52",
   "metadata": {},
   "outputs": [],
   "source": [
    "def count_words(input_file, output_file):\n",
    "    with open(input_file, \"r\") as file:\n",
    "        content = file.read()\n",
    "        words = len(content.split())\n",
    "        \n",
    "    with open(output_file, \"w\") as file:\n",
    "        file.write(f\"Word count: {words}\")\n",
    "\n",
    "count_words(\"new.txt\", \"count.txt\")"
   ]
  }
 ],
 "metadata": {
  "kernelspec": {
   "display_name": "Python 3 (ipykernel)",
   "language": "python",
   "name": "python3"
  },
  "language_info": {
   "codemirror_mode": {
    "name": "ipython",
    "version": 3
   },
   "file_extension": ".py",
   "mimetype": "text/x-python",
   "name": "python",
   "nbconvert_exporter": "python",
   "pygments_lexer": "ipython3",
   "version": "3.13.1"
  }
 },
 "nbformat": 4,
 "nbformat_minor": 5
}
