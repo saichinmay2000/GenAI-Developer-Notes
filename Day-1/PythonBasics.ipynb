{
 "cells": [
  {
   "cell_type": "code",
   "execution_count": 2,
   "id": "b5b9a12d-1e12-4325-a646-9dedf2d7a337",
   "metadata": {},
   "outputs": [],
   "source": [
    "name = \"John\" #String\n",
    "age = 25 #Int\n",
    "is_student = True #Boolean\n",
    "grades = [85, 90, 88] #List\n",
    "student_info = {\"name\": \"John\", \"age\": 25, \"grades\": grades} #Dict"
   ]
  },
  {
   "cell_type": "code",
   "execution_count": 4,
   "id": "7c5a2f62-5417-49a7-bf19-4410a3d36fea",
   "metadata": {},
   "outputs": [
    {
     "data": {
      "text/plain": [
       "dict"
      ]
     },
     "execution_count": 4,
     "metadata": {},
     "output_type": "execute_result"
    }
   ],
   "source": [
    "type(student_info)"
   ]
  },
  {
   "cell_type": "code",
   "execution_count": 13,
   "id": "87cbc10b-7fc4-472c-b909-a25d5ffd4f90",
   "metadata": {},
   "outputs": [
    {
     "name": "stdout",
     "output_type": "stream",
     "text": [
      "Major\n"
     ]
    }
   ],
   "source": [
    "if (age > 18):\n",
    "    print(\"Major\")\n",
    "else:\n",
    "    print(\"Minor\")"
   ]
  },
  {
   "cell_type": "code",
   "execution_count": 6,
   "id": "0af9fbb7-b8bc-4aec-a0ef-ad127ec85f82",
   "metadata": {},
   "outputs": [
    {
     "name": "stdout",
     "output_type": "stream",
     "text": [
      "85\n",
      "90\n",
      "88\n"
     ]
    }
   ],
   "source": [
    "for grade in grades:\n",
    "    print(grade)"
   ]
  },
  {
   "cell_type": "code",
   "execution_count": 15,
   "id": "1faed37b-74c7-4f2f-8729-3c46e807b0d6",
   "metadata": {},
   "outputs": [
    {
     "name": "stdout",
     "output_type": "stream",
     "text": [
      "Still in 20's\n",
      "Still in 20's\n",
      "Still in 20's\n",
      "Still in 20's\n",
      "Still in 20's\n"
     ]
    }
   ],
   "source": [
    "while age < 30:\n",
    "    print(\"Still in 20's\")\n",
    "    age +=1"
   ]
  },
  {
   "cell_type": "code",
   "execution_count": 17,
   "id": "5c3df92c-f693-416c-b20d-9f10efce75ff",
   "metadata": {},
   "outputs": [
    {
     "name": "stdout",
     "output_type": "stream",
     "text": [
      "20.0\n"
     ]
    }
   ],
   "source": [
    "def calculate_avg_sum(numbers):\n",
    "    return sum(numbers)/len(numbers)\n",
    "\n",
    "print(calculate_avg_sum([20,20,20]))"
   ]
  },
  {
   "cell_type": "code",
   "execution_count": 19,
   "id": "063d34e7-6418-4c8f-9f08-514c7985868e",
   "metadata": {},
   "outputs": [],
   "source": [
    "#writing to a file\n",
    "with open(\"new.txt\", \"w\") as file:\n",
    "    file.write(\"Hello World!\")"
   ]
  },
  {
   "cell_type": "code",
   "execution_count": 20,
   "id": "8bcdadb3-f2c8-4102-94a1-146473fd5165",
   "metadata": {},
   "outputs": [
    {
     "name": "stdout",
     "output_type": "stream",
     "text": [
      "Hello World!\n"
     ]
    }
   ],
   "source": [
    "#reading a file\n",
    "with open(\"new.txt\", \"r\") as file:\n",
    "    print(file.read())"
   ]
  },
  {
   "cell_type": "code",
   "execution_count": 3,
   "id": "04bc578f-c251-4dae-b9bb-a58173d7e783",
   "metadata": {},
   "outputs": [
    {
     "name": "stdout",
     "output_type": "stream",
     "text": [
      "85\n",
      "90\n",
      "88\n",
      "Still in 20s!\n",
      "Still in 20s!\n",
      "Still in 20s!\n",
      "Still in 20s!\n",
      "Still in 20s!\n"
     ]
    }
   ],
   "source": [
    "for grade in grades:\n",
    "    print(grade)\n",
    "\n",
    "while age < 30:\n",
    "    print(\"Still in 20s!\")\n",
    "    age += 1"
   ]
  }
 ],
 "metadata": {
  "kernelspec": {
   "display_name": "Python 3 (ipykernel)",
   "language": "python",
   "name": "python3"
  },
  "language_info": {
   "codemirror_mode": {
    "name": "ipython",
    "version": 3
   },
   "file_extension": ".py",
   "mimetype": "text/x-python",
   "name": "python",
   "nbconvert_exporter": "python",
   "pygments_lexer": "ipython3",
   "version": "3.13.1"
  }
 },
 "nbformat": 4,
 "nbformat_minor": 5
}
