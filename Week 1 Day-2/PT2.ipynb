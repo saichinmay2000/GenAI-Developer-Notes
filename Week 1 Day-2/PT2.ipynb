{
 "cells": [
  {
   "cell_type": "code",
   "execution_count": 1,
   "id": "f8b1a0fb-9b05-4019-b39b-efe56b195556",
   "metadata": {},
   "outputs": [],
   "source": [
    "import numpy as np"
   ]
  },
  {
   "cell_type": "code",
   "execution_count": 5,
   "id": "a637446b-9703-4593-a8f3-aaec1d586150",
   "metadata": {},
   "outputs": [
    {
     "name": "stdout",
     "output_type": "stream",
     "text": [
      "[[ 2  4  6]\n",
      " [ 8 10 12]\n",
      " [14 16 18]]\n"
     ]
    }
   ],
   "source": [
    "# TASK 1\n",
    "# Create a 2D Matrix and Multiply by 2 \n",
    "\n",
    "mat = np.array([[1,2,3], [4,5,6], [7,8,9]]) * 2\n",
    "print(mat)"
   ]
  },
  {
   "cell_type": "code",
   "execution_count": 7,
   "id": "acb0d242-1fdd-4ec3-b722-3aadace93eff",
   "metadata": {},
   "outputs": [
    {
     "name": "stdout",
     "output_type": "stream",
     "text": [
      "Sum:  [5 7 9]\n",
      "Multiply:  [ 4 10 18]\n"
     ]
    }
   ],
   "source": [
    "# Task 2\n",
    "# Create 2 1D Arrays\n",
    "# multiply and sum for those both arrays\n",
    "\n",
    "arr1 = np.array([1,2,3])\n",
    "arr2 = np.array([4,5,6])\n",
    "print(\"Sum: \", arr1 + arr2)\n",
    "print(\"Multiply: \",arr1 * arr2)"
   ]
  },
  {
   "cell_type": "code",
   "execution_count": 9,
   "id": "6dcb37a4-c0d7-4a07-bc0b-603bb8cba79e",
   "metadata": {},
   "outputs": [
    {
     "name": "stdout",
     "output_type": "stream",
     "text": [
      "[[19 22]\n",
      " [43 50]]\n"
     ]
    }
   ],
   "source": [
    "# Task 3\n",
    "# Dot Product Matrix\n",
    "\n",
    "ar1 = np.array([[1,2], [3,4]])\n",
    "ar2 = np.array([[5,6], [7,8]])\n",
    "print(np.dot(ar1, ar2))"
   ]
  },
  {
   "cell_type": "code",
   "execution_count": 12,
   "id": "f2dabedf-efdc-481b-8abf-ab0ffd90bf5c",
   "metadata": {},
   "outputs": [
    {
     "name": "stdout",
     "output_type": "stream",
     "text": [
      "[[1 2]\n",
      " [3 4]\n",
      " [5 6]]\n",
      "\n",
      "\n",
      "[[1 3 5]\n",
      " [2 4 6]]\n"
     ]
    }
   ],
   "source": [
    "# Task 4\n",
    "# Transpose Matrix\n",
    "\n",
    "matT = np.array([[1,2], [3,4], [5,6]])\n",
    "print(matT)\n",
    "print(\"\\n\")\n",
    "print(matT.T)"
   ]
  },
  {
   "cell_type": "code",
   "execution_count": 14,
   "id": "bda90dd0-1dae-4a71-a9a8-0d156509ecc4",
   "metadata": {},
   "outputs": [
    {
     "name": "stdout",
     "output_type": "stream",
     "text": [
      "62\n",
      "[14 12 17 19]\n",
      "[18  9 18 17]\n"
     ]
    }
   ],
   "source": [
    "# Task 5\n",
    "# Create a matrix of Random Values 4x4\n",
    "# Sum of elements, rows and columns\n",
    "\n",
    "rmat = np.random.randint(1, 10, (4 , 4))\n",
    "print(np.sum(rmat))\n",
    "print(np.sum(rmat, axis = 0)) #Column Sum\n",
    "print(np.sum(rmat, axis = 1)) #Row Sum"
   ]
  }
 ],
 "metadata": {
  "kernelspec": {
   "display_name": "Python 3 (ipykernel)",
   "language": "python",
   "name": "python3"
  },
  "language_info": {
   "codemirror_mode": {
    "name": "ipython",
    "version": 3
   },
   "file_extension": ".py",
   "mimetype": "text/x-python",
   "name": "python",
   "nbconvert_exporter": "python",
   "pygments_lexer": "ipython3",
   "version": "3.13.1"
  }
 },
 "nbformat": 4,
 "nbformat_minor": 5
}
