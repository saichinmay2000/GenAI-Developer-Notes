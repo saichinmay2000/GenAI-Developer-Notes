{
 "cells": [
  {
   "cell_type": "code",
   "execution_count": 1,
   "id": "f8b1a0fb-9b05-4019-b39b-efe56b195556",
   "metadata": {},
   "outputs": [],
   "source": [
    "import numpy as np"
   ]
  },
  {
   "cell_type": "code",
   "execution_count": 5,
   "id": "a637446b-9703-4593-a8f3-aaec1d586150",
   "metadata": {},
   "outputs": [
    {
     "name": "stdout",
     "output_type": "stream",
     "text": [
      "[[ 2  4  6]\n",
      " [ 8 10 12]\n",
      " [14 16 18]]\n"
     ]
    }
   ],
   "source": [
    "# TASK 1\n",
    "# Create a 2D Matrix and Multiply by 2 \n",
    "\n",
    "mat = np.array([[1,2,3], [4,5,6], [7,8,9]]) * 2\n",
    "print(mat)"
   ]
  },
  {
   "cell_type": "code",
   "execution_count": null,
   "id": "acb0d242-1fdd-4ec3-b722-3aadace93eff",
   "metadata": {},
   "outputs": [],
   "source": []
  }
 ],
 "metadata": {
  "kernelspec": {
   "display_name": "Python 3 (ipykernel)",
   "language": "python",
   "name": "python3"
  },
  "language_info": {
   "codemirror_mode": {
    "name": "ipython",
    "version": 3
   },
   "file_extension": ".py",
   "mimetype": "text/x-python",
   "name": "python",
   "nbconvert_exporter": "python",
   "pygments_lexer": "ipython3",
   "version": "3.13.1"
  }
 },
 "nbformat": 4,
 "nbformat_minor": 5
}
