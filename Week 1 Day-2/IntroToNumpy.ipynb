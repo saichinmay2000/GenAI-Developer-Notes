{
 "cells": [
  {
   "cell_type": "code",
   "execution_count": 1,
   "id": "2660fcf9-0192-4f90-82bb-50b69d593e37",
   "metadata": {},
   "outputs": [],
   "source": [
    "import numpy as np"
   ]
  },
  {
   "cell_type": "code",
   "execution_count": 9,
   "id": "9151df01-0f9d-4045-b76d-13b63af8cf95",
   "metadata": {},
   "outputs": [
    {
     "name": "stdout",
     "output_type": "stream",
     "text": [
      "[1 2 3 4 5]\n"
     ]
    }
   ],
   "source": [
    "# 1D Numpy Array - Creation\n",
    "arr = np.array([ 1,2,3,4,5 ])\n",
    "print(arr)"
   ]
  },
  {
   "cell_type": "code",
   "execution_count": 8,
   "id": "8362826a-066a-4760-bf2e-f1d10a38ce6b",
   "metadata": {},
   "outputs": [
    {
     "name": "stdout",
     "output_type": "stream",
     "text": [
      "[[1 2 3]\n",
      " [4 5 6]]\n"
     ]
    }
   ],
   "source": [
    "# 2D Numpy Array - Creation\n",
    "arr2 = np.array([[1,2,3], [4,5,6]])\n",
    "print(arr2)"
   ]
  },
  {
   "cell_type": "code",
   "execution_count": 16,
   "id": "45f921b1-d56c-4b5c-b1c9-916f265bc95c",
   "metadata": {},
   "outputs": [
    {
     "name": "stdout",
     "output_type": "stream",
     "text": [
      "Shape: (2, 3)\n",
      "Size: 6\n",
      "Data Type: int64\n"
     ]
    }
   ],
   "source": [
    "# Array Properties\n",
    "print(\"Shape:\",arr2.shape) #(rows, columns)\n",
    "print(\"Size:\",arr2.size) #Total Elements\n",
    "print(\"Data Type:\",arr2.dtype) #Type of Elements"
   ]
  },
  {
   "cell_type": "code",
   "execution_count": 19,
   "id": "e5af2442-feb4-4904-852b-4ef48e73de67",
   "metadata": {},
   "outputs": [
    {
     "name": "stdout",
     "output_type": "stream",
     "text": [
      "Addition: [5 7 9]\n",
      "Multiplication [ 4 10 18]\n"
     ]
    }
   ],
   "source": [
    "# Array Operations\n",
    "ar1 = np.array([1, 2, 3])\n",
    "ar2 = np.array([4, 5, 6])\n",
    "print(\"Addition:\", ar1 + ar2)\n",
    "print(\"Multiplication\", ar1 * ar2) #General Multiplication PS: Not Dot Product"
   ]
  },
  {
   "cell_type": "code",
   "execution_count": 21,
   "id": "fd8cce3c-fb12-4700-a7f7-219c3490a135",
   "metadata": {},
   "outputs": [
    {
     "name": "stdout",
     "output_type": "stream",
     "text": [
      "[[19 22]\n",
      " [43 50]]\n"
     ]
    }
   ],
   "source": [
    "# Dot Matrix - Matrix multiplication\n",
    "mat1 = np.array([[1,2], [3,4]])\n",
    "mat2 = np.array([[5,6], [7,8]])\n",
    "print(np.dot(mat1, mat2))"
   ]
  },
  {
   "cell_type": "code",
   "execution_count": 22,
   "id": "70f404f2-e945-45ab-a551-c3291f10a78b",
   "metadata": {},
   "outputs": [
    {
     "name": "stdout",
     "output_type": "stream",
     "text": [
      "Transpose:\n",
      " [[1 3]\n",
      " [2 4]]\n"
     ]
    }
   ],
   "source": [
    "print(\"Transpose:\\n\", mat1.T)"
   ]
  },
  {
   "cell_type": "code",
   "execution_count": 27,
   "id": "da1276b8-9c12-48d0-8ebc-ef18b5cb183c",
   "metadata": {},
   "outputs": [
    {
     "name": "stdout",
     "output_type": "stream",
     "text": [
      "20\n",
      "[20 30 40]\n"
     ]
    }
   ],
   "source": [
    "# Indexing and Slicing the Arrays\n",
    "ar = np.array([10, 20, 30, 40, 50])\n",
    "print(ar[1])\n",
    "print(ar[1:4])"
   ]
  },
  {
   "cell_type": "code",
   "execution_count": 3,
   "id": "f1d27361-8576-4ef3-abed-0715eb4450b2",
   "metadata": {},
   "outputs": [],
   "source": [
    "zeros = np.zeros((3, 3))\n",
    "ones = np.ones((2, 2))\n",
    "random_vals = np.random.rand(3, 3)"
   ]
  },
  {
   "cell_type": "code",
   "execution_count": 5,
   "id": "8105441c-dc15-4c37-ab36-203d0bcd0b08",
   "metadata": {},
   "outputs": [
    {
     "name": "stdout",
     "output_type": "stream",
     "text": [
      "[[0. 0. 0.]\n",
      " [0. 0. 0.]\n",
      " [0. 0. 0.]]\n",
      "[[1. 1.]\n",
      " [1. 1.]]\n",
      "[[0.85019117 0.078665   0.59554192]\n",
      " [0.24791837 0.4295524  0.88742876]\n",
      " [0.81517088 0.67020014 0.28307339]]\n"
     ]
    }
   ],
   "source": [
    "print(zeros)\n",
    "print(ones)\n",
    "print(random_vals)"
   ]
  },
  {
   "cell_type": "code",
   "execution_count": 3,
   "id": "c5ff9c51-4e41-4b4a-88c5-f1435f4ccb82",
   "metadata": {},
   "outputs": [
    {
     "name": "stdout",
     "output_type": "stream",
     "text": [
      "150\n",
      "[5 7 9]\n",
      "[ 6 15]\n"
     ]
    }
   ],
   "source": [
    "arr = np.array([10, 20, 30, 40, 50])\n",
    "matrix = np.array([[1, 2, 3], [4, 5, 6]])\n",
    "print(np.sum(arr))  # Sum of all elements\n",
    "print(np.sum(matrix, axis=0))  # Sum by columns\n",
    "print(np.sum(matrix, axis=1))  # Sum by rows"
   ]
  }
 ],
 "metadata": {
  "kernelspec": {
   "display_name": "Python 3 (ipykernel)",
   "language": "python",
   "name": "python3"
  },
  "language_info": {
   "codemirror_mode": {
    "name": "ipython",
    "version": 3
   },
   "file_extension": ".py",
   "mimetype": "text/x-python",
   "name": "python",
   "nbconvert_exporter": "python",
   "pygments_lexer": "ipython3",
   "version": "3.13.1"
  }
 },
 "nbformat": 4,
 "nbformat_minor": 5
}
