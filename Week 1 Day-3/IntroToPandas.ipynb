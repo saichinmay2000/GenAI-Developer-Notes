{
 "cells": [
  {
   "cell_type": "code",
   "execution_count": 1,
   "id": "da7d1592-b5af-44f1-88a3-a2035fc3215c",
   "metadata": {},
   "outputs": [],
   "source": [
    "import pandas as pd"
   ]
  },
  {
   "cell_type": "code",
   "execution_count": 2,
   "id": "d1a41b27-2b65-4126-82d7-ff6b63b16271",
   "metadata": {},
   "outputs": [
    {
     "name": "stdout",
     "output_type": "stream",
     "text": [
      "      Name  Age  Score\n",
      "0    Alice   25     85\n",
      "1      Bob   30     90\n",
      "2  Charlie   35     88\n"
     ]
    }
   ],
   "source": [
    "data = {\n",
    "    \"Name\": [\"Alice\", \"Bob\", \"Charlie\"],\n",
    "    \"Age\": [25, 30, 35],\n",
    "    \"Score\": [85, 90, 88]\n",
    "}\n",
    "\n",
    "df = pd.DataFrame(data)\n",
    "print(df)"
   ]
  },
  {
   "cell_type": "code",
   "execution_count": 3,
   "id": "e4b08357-4ebc-4673-9b90-03e4dbb8aadd",
   "metadata": {},
   "outputs": [
    {
     "name": "stdout",
     "output_type": "stream",
     "text": [
      "      Name  Age  Score\n",
      "0    Alice   25     85\n",
      "1      Bob   30     90\n",
      "2  Charlie   35     88\n",
      "      Name  Age  Score\n",
      "0    Alice   25     85\n",
      "1      Bob   30     90\n",
      "2  Charlie   35     88\n",
      "<class 'pandas.core.frame.DataFrame'>\n",
      "RangeIndex: 3 entries, 0 to 2\n",
      "Data columns (total 3 columns):\n",
      " #   Column  Non-Null Count  Dtype \n",
      "---  ------  --------------  ----- \n",
      " 0   Name    3 non-null      object\n",
      " 1   Age     3 non-null      int64 \n",
      " 2   Score   3 non-null      int64 \n",
      "dtypes: int64(2), object(1)\n",
      "memory usage: 204.0+ bytes\n",
      "None\n",
      "        Age      Score\n",
      "count   3.0   3.000000\n",
      "mean   30.0  87.666667\n",
      "std     5.0   2.516611\n",
      "min    25.0  85.000000\n",
      "25%    27.5  86.500000\n",
      "50%    30.0  88.000000\n",
      "75%    32.5  89.000000\n",
      "max    35.0  90.000000\n"
     ]
    }
   ],
   "source": [
    "print(df.head())  # First 5 rows\n",
    "print(df.tail())  # Last 5 rows\n",
    "print(df.info())  # Overview of the DataFrame\n",
    "print(df.describe())  # Summary statistics"
   ]
  }
 ],
 "metadata": {
  "kernelspec": {
   "display_name": "Python 3 (ipykernel)",
   "language": "python",
   "name": "python3"
  },
  "language_info": {
   "codemirror_mode": {
    "name": "ipython",
    "version": 3
   },
   "file_extension": ".py",
   "mimetype": "text/x-python",
   "name": "python",
   "nbconvert_exporter": "python",
   "pygments_lexer": "ipython3",
   "version": "3.13.1"
  }
 },
 "nbformat": 4,
 "nbformat_minor": 5
}
