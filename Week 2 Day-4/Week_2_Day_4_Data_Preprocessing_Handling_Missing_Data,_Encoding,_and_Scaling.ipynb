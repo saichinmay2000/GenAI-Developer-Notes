{
  "nbformat": 4,
  "nbformat_minor": 0,
  "metadata": {
    "colab": {
      "provenance": []
    },
    "kernelspec": {
      "name": "python3",
      "display_name": "Python 3"
    },
    "language_info": {
      "name": "python"
    }
  },
  "cells": [
    {
      "cell_type": "code",
      "execution_count": 1,
      "metadata": {
        "colab": {
          "base_uri": "https://localhost:8080/"
        },
        "id": "nSkKlvEh9R3c",
        "outputId": "53037ea4-a8c2-4428-8deb-06ef83e20210"
      },
      "outputs": [
        {
          "output_type": "stream",
          "name": "stdout",
          "text": [
            "After Handling Missing Data:\n",
            "     Age   Salary Country\n",
            "0  25.00  50000.0     USA\n",
            "1  30.00  60000.0  Canada\n",
            "2  36.25  70000.0  Mexico\n",
            "3  40.00  65000.0     USA\n",
            "4  50.00  90000.0     USA\n",
            "\n",
            "After One-Hot Encoding:\n",
            "     Age   Salary  Country_Mexico  Country_USA\n",
            "0  25.00  50000.0           False         True\n",
            "1  30.00  60000.0           False        False\n",
            "2  36.25  70000.0            True        False\n",
            "3  40.00  65000.0           False         True\n",
            "4  50.00  90000.0           False         True\n",
            "\n",
            "After Standard Scaling:\n",
            "        Age    Salary  Country_Mexico  Country_USA\n",
            "0 -1.310001 -1.281423           False         True\n",
            "1 -0.727778 -0.527645           False        False\n",
            "2  0.000000  0.226134            True        False\n",
            "3  0.436667 -0.150756           False         True\n",
            "4  1.601112  1.733690           False         True\n",
            "\n",
            "After Min-Max Scaling:\n",
            "    Age  Salary  Country_Mexico  Country_USA\n",
            "0  0.00   0.000           False         True\n",
            "1  0.20   0.250           False        False\n",
            "2  0.45   0.500            True        False\n",
            "3  0.60   0.375           False         True\n",
            "4  1.00   1.000           False         True\n"
          ]
        }
      ],
      "source": [
        "import pandas as pd\n",
        "import numpy as np\n",
        "from sklearn.preprocessing import StandardScaler, MinMaxScaler\n",
        "\n",
        "# Dataset\n",
        "data = {\n",
        "    'Age': [25, 30, np.nan, 40, 50],\n",
        "    'Salary': [50000, 60000, 70000, np.nan, 90000],\n",
        "    'Country': ['USA', 'Canada', 'Mexico', 'USA', np.nan]\n",
        "}\n",
        "df = pd.DataFrame(data)\n",
        "\n",
        "# Task 1: Handle Missing Data\n",
        "df['Age'] = df['Age'].fillna(df['Age'].mean())  # Fill Age with mean\n",
        "df['Salary'] = df['Salary'].fillna(df['Salary'].median())  # Fill Salary with median\n",
        "df['Country'] = df['Country'].fillna(df['Country'].mode()[0])  # Fill Country with mode\n",
        "\n",
        "print(\"After Handling Missing Data:\")\n",
        "print(df)\n",
        "\n",
        "# Task 2: One-Hot Encode 'Country'\n",
        "df_encoded = pd.get_dummies(df, columns=['Country'], drop_first=True)\n",
        "print(\"\\nAfter One-Hot Encoding:\")\n",
        "print(df_encoded)\n",
        "\n",
        "# Task 3: Scale Features\n",
        "scaler_standard = StandardScaler()\n",
        "scaler_minmax = MinMaxScaler()\n",
        "\n",
        "df_encoded[['Age', 'Salary']] = scaler_standard.fit_transform(df_encoded[['Age', 'Salary']])\n",
        "print(\"\\nAfter Standard Scaling:\")\n",
        "print(df_encoded)\n",
        "\n",
        "df_minmax = df_encoded.copy()\n",
        "df_minmax[['Age', 'Salary']] = scaler_minmax.fit_transform(df_minmax[['Age', 'Salary']])\n",
        "print(\"\\nAfter Min-Max Scaling:\")\n",
        "print(df_minmax)\n"
      ]
    }
  ]
}