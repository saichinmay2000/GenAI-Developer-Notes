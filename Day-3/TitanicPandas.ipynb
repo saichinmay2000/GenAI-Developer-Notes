{
 "cells": [
  {
   "cell_type": "code",
   "execution_count": 1,
   "id": "ee7a8239-6a33-4bea-aa9a-9926dbc8b3f3",
   "metadata": {},
   "outputs": [],
   "source": [
    "import pandas as pd"
   ]
  },
  {
   "cell_type": "code",
   "execution_count": 10,
   "id": "8bb9a4d3-faa7-4431-8613-024eb1df393e",
   "metadata": {},
   "outputs": [
    {
     "name": "stdout",
     "output_type": "stream",
     "text": [
      "   PassengerId  Survived  Pclass  \\\n",
      "0            1         0       3   \n",
      "1            2         1       1   \n",
      "2            3         1       3   \n",
      "3            4         1       1   \n",
      "4            5         0       3   \n",
      "\n",
      "                                                Name     Sex   Age  SibSp  \\\n",
      "0                            Braund, Mr. Owen Harris    male  22.0      1   \n",
      "1  Cumings, Mrs. John Bradley (Florence Briggs Th...  female  38.0      1   \n",
      "2                             Heikkinen, Miss. Laina  female  26.0      0   \n",
      "3       Futrelle, Mrs. Jacques Heath (Lily May Peel)  female  35.0      1   \n",
      "4                           Allen, Mr. William Henry    male  35.0      0   \n",
      "\n",
      "   Parch            Ticket     Fare Cabin Embarked  \n",
      "0      0         A/5 21171   7.2500   NaN        S  \n",
      "1      0          PC 17599  71.2833   C85        C  \n",
      "2      0  STON/O2. 3101282   7.9250   NaN        S  \n",
      "3      0            113803  53.1000  C123        S  \n",
      "4      0            373450   8.0500   NaN        S  \n"
     ]
    }
   ],
   "source": [
    "# Read CSV and print the first 5 rows of the file\n",
    "data = pd.read_csv('titanic.csv')\n",
    "print(data.head())"
   ]
  },
  {
   "cell_type": "code",
   "execution_count": 5,
   "id": "aca47811-e3af-402e-b8d9-6b3398163272",
   "metadata": {},
   "outputs": [
    {
     "name": "stdout",
     "output_type": "stream",
     "text": [
      "     PassengerId  Survived  Pclass  \\\n",
      "1              2         1       1   \n",
      "3              4         1       1   \n",
      "11            12         1       1   \n",
      "15            16         1       2   \n",
      "21            22         1       2   \n",
      "..           ...       ...     ...   \n",
      "857          858         1       1   \n",
      "862          863         1       1   \n",
      "865          866         1       2   \n",
      "871          872         1       1   \n",
      "879          880         1       1   \n",
      "\n",
      "                                                  Name     Sex   Age  SibSp  \\\n",
      "1    Cumings, Mrs. John Bradley (Florence Briggs Th...  female  38.0      1   \n",
      "3         Futrelle, Mrs. Jacques Heath (Lily May Peel)  female  35.0      1   \n",
      "11                            Bonnell, Miss. Elizabeth  female  58.0      0   \n",
      "15                    Hewlett, Mrs. (Mary D Kingcome)   female  55.0      0   \n",
      "21                               Beesley, Mr. Lawrence    male  34.0      0   \n",
      "..                                                 ...     ...   ...    ...   \n",
      "857                             Daly, Mr. Peter Denis     male  51.0      0   \n",
      "862  Swift, Mrs. Frederick Joel (Margaret Welles Ba...  female  48.0      0   \n",
      "865                           Bystrom, Mrs. (Karolina)  female  42.0      0   \n",
      "871   Beckwith, Mrs. Richard Leonard (Sallie Monypeny)  female  47.0      1   \n",
      "879      Potter, Mrs. Thomas Jr (Lily Alexenia Wilson)  female  56.0      0   \n",
      "\n",
      "     Parch    Ticket     Fare Cabin Embarked  \n",
      "1        0  PC 17599  71.2833   C85        C  \n",
      "3        0    113803  53.1000  C123        S  \n",
      "11       0    113783  26.5500  C103        S  \n",
      "15       0    248706  16.0000   NaN        S  \n",
      "21       0    248698  13.0000   D56        S  \n",
      "..     ...       ...      ...   ...      ...  \n",
      "857      0    113055  26.5500   E17        S  \n",
      "862      0     17466  25.9292   D17        S  \n",
      "865      0    236852  13.0000   NaN        S  \n",
      "871      1     11751  52.5542   D35        S  \n",
      "879      1     11767  83.1583   C50        C  \n",
      "\n",
      "[124 rows x 12 columns]\n"
     ]
    }
   ],
   "source": [
    "# Filter the data who survived over 30 years\n",
    "over_30 = data[(data[\"Age\"] > 30) & (data[\"Survived\"] == 1)]\n",
    "print(over_30)"
   ]
  },
  {
   "cell_type": "code",
   "execution_count": 13,
   "id": "9aa4b5f3-e9fb-47a0-b750-a1cb8df517c9",
   "metadata": {},
   "outputs": [
    {
     "name": "stdout",
     "output_type": "stream",
     "text": [
      "      Fare Fare_Category\n",
      "0   7.2500           Low\n",
      "1  71.2833          High\n",
      "2   7.9250           Low\n",
      "3  53.1000          High\n",
      "4   8.0500           Low\n"
     ]
    }
   ],
   "source": [
    "# Add a new Column if the fare is above 30 add High else Low \n",
    "data[\"Fare_Category\"] = [\"High\" if fare > 30 else \"Low\" for fare in data[\"Fare\"]]\n",
    "print(data[[\"Fare\", \"Fare_Category\"]].head())"
   ]
  },
  {
   "cell_type": "code",
   "execution_count": 14,
   "id": "fbf41e57-a358-48d5-bd07-10242a116096",
   "metadata": {},
   "outputs": [
    {
     "name": "stdout",
     "output_type": "stream",
     "text": [
      "Embarked\n",
      "C    59.954144\n",
      "Q    13.276030\n",
      "S    27.079812\n",
      "Name: Fare, dtype: float64\n"
     ]
    }
   ],
   "source": [
    "avg_fare_by_embark = data.groupby(\"Embarked\")[\"Fare\"].mean()\n",
    "print(avg_fare_by_embark)"
   ]
  },
  {
   "cell_type": "code",
   "execution_count": 15,
   "id": "da795251-6711-48de-8f43-4aa109c6e041",
   "metadata": {},
   "outputs": [],
   "source": [
    "high_fare = data[data[\"Fare\"] > 50]\n",
    "high_fare.to_csv(\"high_fare_passengers.csv\", index=False)"
   ]
  }
 ],
 "metadata": {
  "kernelspec": {
   "display_name": "Python 3 (ipykernel)",
   "language": "python",
   "name": "python3"
  },
  "language_info": {
   "codemirror_mode": {
    "name": "ipython",
    "version": 3
   },
   "file_extension": ".py",
   "mimetype": "text/x-python",
   "name": "python",
   "nbconvert_exporter": "python",
   "pygments_lexer": "ipython3",
   "version": "3.13.1"
  }
 },
 "nbformat": 4,
 "nbformat_minor": 5
}
